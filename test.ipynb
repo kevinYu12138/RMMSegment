{
 "cells": [
  {
   "cell_type": "code",
   "execution_count": 4,
   "outputs": [
    {
     "name": "stdout",
     "output_type": "stream",
     "text": [
      "开始初始化词典\n",
      "完成词典初始化，添加词典条目数：349046\n",
      "最大分词长度：16\n"
     ]
    }
   ],
   "source": [
    "import reverse_max_match_segment as rs\n",
    "# dictionary,maxlength = rs.add_dict('dictionary/dict.txt')\n",
    "# print(dictionary).\n",
    "\n",
    "f_dict = open(\"../data/dictionary/dict.txt\", 'r', encoding=\"utf-8\")\n",
    "print(\"开始初始化词典\")\n",
    "max_length = 1\n",
    "count = 0\n",
    "dictionary = []\n",
    "for line in f_dict.readlines():\n",
    "    dictionary.append(line.split()[0])  # 词典取每行的第一列\n",
    "    count += 1\n",
    "    if len(line.split()[0]) > max_length:\n",
    "        max_length = len(line.split()[0])\n",
    "        # print(line.split()[0])  # 当前分词长度最长的词\n",
    "print(\"完成词典初始化，添加词典条目数：\" + str(count))\n",
    "print(\"最大分词长度：\" + str(max_length))\n",
    "# print(dictionary)"
   ],
   "metadata": {
    "collapsed": false,
    "pycharm": {
     "name": "#%%\n"
    }
   }
  }
 ],
 "metadata": {
  "kernelspec": {
   "display_name": "Python 3",
   "language": "python",
   "name": "python3"
  },
  "language_info": {
   "codemirror_mode": {
    "name": "ipython",
    "version": 2
   },
   "file_extension": ".py",
   "mimetype": "text/x-python",
   "name": "python",
   "nbconvert_exporter": "python",
   "pygments_lexer": "ipython2",
   "version": "2.7.6"
  }
 },
 "nbformat": 4,
 "nbformat_minor": 0
}